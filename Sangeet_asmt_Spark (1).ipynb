{
 "cells": [
  {
   "cell_type": "code",
   "execution_count": 1,
   "metadata": {
    "collapsed": true
   },
   "outputs": [],
   "source": [
    "#pyspark Seesion\n",
    "from pyspark import SparkContext, SparkConf"
   ]
  },
  {
   "cell_type": "code",
   "execution_count": 2,
   "metadata": {
    "collapsed": true
   },
   "outputs": [],
   "source": [
    "conf = SparkConf().setAppName(\"Log Analyzer\")"
   ]
  },
  {
   "cell_type": "code",
   "execution_count": 3,
   "metadata": {},
   "outputs": [],
   "source": [
    "sc = SparkContext(conf=conf)"
   ]
  },
  {
   "cell_type": "code",
   "execution_count": 4,
   "metadata": {
    "collapsed": true
   },
   "outputs": [],
   "source": [
    "import re  #regular expression"
   ]
  },
  {
   "cell_type": "code",
   "execution_count": 5,
   "metadata": {
    "collapsed": true
   },
   "outputs": [],
   "source": [
    "from pyspark.sql import Row"
   ]
  },
  {
   "cell_type": "code",
   "execution_count": 6,
   "metadata": {
    "collapsed": true
   },
   "outputs": [],
   "source": [
    "LOG_PATTERN = '^(\\S+) (\\S+) (\\S+) \\[([\\w:/]+\\s[+\\-]\\d{4})\\] \"(\\S+) (\\S+) (\\S+)\" (\\d{3}) (\\d+)'"
   ]
  },
  {
   "cell_type": "code",
   "execution_count": 7,
   "metadata": {
    "collapsed": true
   },
   "outputs": [],
   "source": [
    "def parse_apache_log_line(logline):\n",
    "    match = re.search(LOG_PATTERN, logline)\n",
    "    if match is None:\n",
    "        raise Error(\"Invalid logline: %s\" % logline)\n",
    "    return Row(\n",
    "        ip_address    = match.group(1),\n",
    "        sep_1 = match.group(2),\n",
    "        sep_2       = match.group(3),\n",
    "        date_time     = match.group(4),\n",
    "        method        = match.group(5),\n",
    "        requested_url      = match.group(6),\n",
    "        protocol      = match.group(7),\n",
    "        response_code = int(match.group(8)),\n",
    "        content_size  = long(match.group(9))\n",
    ")"
   ]
  },
  {
   "cell_type": "code",
   "execution_count": 8,
   "metadata": {},
   "outputs": [],
   "source": [
    "#read from .gz file and parse it as per above format\n",
    "access_logs = (sc.textFile(\"/user/sylphsangeeta3307/BDS_Quiz/NASA_access_log_Aug95.gz\")\n",
    "               .map(parse_apache_log_line))  "
   ]
  },
  {
   "cell_type": "code",
   "execution_count": 9,
   "metadata": {},
   "outputs": [
    {
     "data": {
      "text/plain": [
       "PythonRDD[2] at RDD at PythonRDD.scala:48"
      ]
     },
     "execution_count": 9,
     "metadata": {},
     "output_type": "execute_result"
    }
   ],
   "source": [
    "access_logs"
   ]
  },
  {
   "cell_type": "code",
   "execution_count": 10,
   "metadata": {
    "collapsed": true
   },
   "outputs": [],
   "source": [
    "\n",
    "# import pyspark sql\n",
    "from pyspark.sql import SQLContext"
   ]
  },
  {
   "cell_type": "code",
   "execution_count": 11,
   "metadata": {
    "collapsed": true
   },
   "outputs": [],
   "source": [
    "sqlContext = SQLContext(sc)"
   ]
  },
  {
   "cell_type": "code",
   "execution_count": 12,
   "metadata": {},
   "outputs": [],
   "source": [
    "#create the Dataframe from the RDD\n",
    "schema_access_logs = sqlContext.createDataFrame(access_logs)\n"
   ]
  },
  {
   "cell_type": "code",
   "execution_count": 13,
   "metadata": {},
   "outputs": [
    {
     "data": {
      "text/plain": [
       "pyspark.sql.dataframe.DataFrame"
      ]
     },
     "execution_count": 13,
     "metadata": {},
     "output_type": "execute_result"
    }
   ],
   "source": [
    "# verify the tpe of schema\n",
    "type(schema_access_logs)\n",
    "\n"
   ]
  },
  {
   "cell_type": "code",
   "execution_count": 14,
   "metadata": {},
   "outputs": [
    {
     "data": {
      "text/plain": [
       "[Row(content_size=1839, date_time=u'01/Aug/1995:00:00:01 -0400', ip_address=u'in24.inetnebr.com', method=u'GET', protocol=u'HTTP/1.0', requested_url=u'/shuttle/missions/sts-68/news/sts-68-mcc-05.txt', response_code=200, sep_1=u'-', sep_2=u'-'),\n",
       " Row(content_size=0, date_time=u'01/Aug/1995:00:00:07 -0400', ip_address=u'uplherc.upl.com', method=u'GET', protocol=u'HTTP/1.0', requested_url=u'/', response_code=304, sep_1=u'-', sep_2=u'-'),\n",
       " Row(content_size=0, date_time=u'01/Aug/1995:00:00:08 -0400', ip_address=u'uplherc.upl.com', method=u'GET', protocol=u'HTTP/1.0', requested_url=u'/images/ksclogo-medium.gif', response_code=304, sep_1=u'-', sep_2=u'-'),\n",
       " Row(content_size=0, date_time=u'01/Aug/1995:00:00:08 -0400', ip_address=u'uplherc.upl.com', method=u'GET', protocol=u'HTTP/1.0', requested_url=u'/images/MOSAIC-logosmall.gif', response_code=304, sep_1=u'-', sep_2=u'-'),\n",
       " Row(content_size=0, date_time=u'01/Aug/1995:00:00:08 -0400', ip_address=u'uplherc.upl.com', method=u'GET', protocol=u'HTTP/1.0', requested_url=u'/images/USA-logosmall.gif', response_code=304, sep_1=u'-', sep_2=u'-')]"
      ]
     },
     "execution_count": 14,
     "metadata": {},
     "output_type": "execute_result"
    }
   ],
   "source": [
    "# just to verify the content\n",
    "schema_access_logs.head(5)"
   ]
  },
  {
   "cell_type": "code",
   "execution_count": 15,
   "metadata": {},
   "outputs": [
    {
     "name": "stdout",
     "output_type": "stream",
     "text": [
      "+------------+--------------------------+-----------------+------+--------+-----------------------------------------------+-------------+-----+-----+\n",
      "|content_size|date_time                 |ip_address       |method|protocol|requested_url                                  |response_code|sep_1|sep_2|\n",
      "+------------+--------------------------+-----------------+------+--------+-----------------------------------------------+-------------+-----+-----+\n",
      "|1839        |01/Aug/1995:00:00:01 -0400|in24.inetnebr.com|GET   |HTTP/1.0|/shuttle/missions/sts-68/news/sts-68-mcc-05.txt|200          |-    |-    |\n",
      "|0           |01/Aug/1995:00:00:07 -0400|uplherc.upl.com  |GET   |HTTP/1.0|/                                              |304          |-    |-    |\n",
      "+------------+--------------------------+-----------------+------+--------+-----------------------------------------------+-------------+-----+-----+\n",
      "only showing top 2 rows\n",
      "\n"
     ]
    }
   ],
   "source": [
    "#show in tabular format\n",
    "schema_access_logs.show(2,truncate=False)"
   ]
  },
  {
   "cell_type": "code",
   "execution_count": 20,
   "metadata": {},
   "outputs": [],
   "source": [
    "# limiting the number of row to process to 60 as beyond this throwing error\n",
    "limited_Access_log=  schema_access_logs.limit(60)"
   ]
  },
  {
   "cell_type": "code",
   "execution_count": 21,
   "metadata": {},
   "outputs": [
    {
     "data": {
      "text/plain": [
       "60"
      ]
     },
     "execution_count": 21,
     "metadata": {},
     "output_type": "execute_result"
    }
   ],
   "source": [
    "# check the count\n",
    "limited_Access_log.count()\n",
    "    "
   ]
  },
  {
   "cell_type": "code",
   "execution_count": 22,
   "metadata": {
    "collapsed": true
   },
   "outputs": [],
   "source": [
    "#Quiz-1: Write spark code( using RDD) to find out top 10 requested URLs along with count of number of times they have been requested "
   ]
  },
  {
   "cell_type": "code",
   "execution_count": 23,
   "metadata": {},
   "outputs": [
    {
     "name": "stdout",
     "output_type": "stream",
     "text": [
      "+--------------------+-----+\n",
      "|       requested_url|count|\n",
      "+--------------------+-----+\n",
      "|/images/ksclogosm...|    4|\n",
      "|/images/launch-lo...|    3|\n",
      "|/shuttle/resource...|    3|\n",
      "|/history/apollo/i...|    3|\n",
      "|/images/NASA-logo...|    3|\n",
      "|/images/KSC-logos...|    3|\n",
      "|                   /|    2|\n",
      "|/images/ksclogo-m...|    2|\n",
      "|/images/MOSAIC-lo...|    2|\n",
      "|/images/USA-logos...|    2|\n",
      "+--------------------+-----+\n",
      "only showing top 10 rows\n",
      "\n"
     ]
    }
   ],
   "source": [
    "limited_Access_log.groupBy('requested_url').count().orderBy('count', ascending=False).show(10)"
   ]
  },
  {
   "cell_type": "code",
   "execution_count": 24,
   "metadata": {
    "collapsed": true
   },
   "outputs": [],
   "source": [
    "#Quiz-2: Write spark code to find out top 5 hosts / IP making the request along with count"
   ]
  },
  {
   "cell_type": "code",
   "execution_count": 25,
   "metadata": {},
   "outputs": [
    {
     "name": "stdout",
     "output_type": "stream",
     "text": [
      "+--------------------+-----+\n",
      "|          ip_address|count|\n",
      "+--------------------+-----+\n",
      "|     uplherc.upl.com|   17|\n",
      "|        133.43.96.45|    8|\n",
      "|slppp6.intermind.net|    6|\n",
      "|ix-esc-ca2-07.ix....|    6|\n",
      "|kgtyk4.kj.yamagat...|    6|\n",
      "+--------------------+-----+\n",
      "only showing top 5 rows\n",
      "\n"
     ]
    }
   ],
   "source": [
    "limited_Access_log.groupBy('ip_address').count().orderBy('count', ascending=False).show(5)"
   ]
  },
  {
   "cell_type": "code",
   "execution_count": 26,
   "metadata": {
    "collapsed": true
   },
   "outputs": [],
   "source": [
    "#Quiz-3: Write spark code to find out top 5 time frame for high traffic"
   ]
  },
  {
   "cell_type": "code",
   "execution_count": 27,
   "metadata": {},
   "outputs": [
    {
     "name": "stdout",
     "output_type": "stream",
     "text": [
      "+--------------------+------------+\n",
      "|           date_time|content_size|\n",
      "+--------------------+------------+\n",
      "|01/Aug/1995:00:00...|        1839|\n",
      "|01/Aug/1995:00:00...|           0|\n",
      "|01/Aug/1995:00:00...|           0|\n",
      "|01/Aug/1995:00:00...|           0|\n",
      "|01/Aug/1995:00:00...|           0|\n",
      "|01/Aug/1995:00:00...|        1713|\n",
      "|01/Aug/1995:00:00...|           0|\n",
      "|01/Aug/1995:00:00...|        1687|\n",
      "|01/Aug/1995:00:00...|       11853|\n",
      "|01/Aug/1995:00:00...|        9202|\n",
      "+--------------------+------------+\n",
      "only showing top 10 rows\n",
      "\n"
     ]
    }
   ],
   "source": [
    "# just to check the content from date_time,content_size\n",
    "limited_Access_log.select('date_time' ,'content_size').show(10)\n"
   ]
  },
  {
   "cell_type": "code",
   "execution_count": 28,
   "metadata": {},
   "outputs": [],
   "source": [
    "# import split function\n",
    "import pyspark.sql.functions "
   ]
  },
  {
   "cell_type": "code",
   "execution_count": 29,
   "metadata": {
    "collapsed": true
   },
   "outputs": [],
   "source": [
    " #split the Date_Time based on blank character to separate the date time  and the timezone "
   ]
  },
  {
   "cell_type": "code",
   "execution_count": 30,
   "metadata": {},
   "outputs": [],
   "source": [
    "split_col = pyspark.sql.functions.split(limited_Access_log['date_time'], ' ')"
   ]
  },
  {
   "cell_type": "code",
   "execution_count": 31,
   "metadata": {},
   "outputs": [],
   "source": [
    "limited_Access_log = limited_Access_log.withColumn('TimeStamp', split_col.getItem(0))"
   ]
  },
  {
   "cell_type": "code",
   "execution_count": 32,
   "metadata": {
    "collapsed": true
   },
   "outputs": [],
   "source": [
    "limited_Access_log = limited_Access_log.withColumn('Time_Zone', split_col.getItem(1))"
   ]
  },
  {
   "cell_type": "code",
   "execution_count": 33,
   "metadata": {},
   "outputs": [
    {
     "name": "stdout",
     "output_type": "stream",
     "text": [
      "root\n",
      " |-- content_size: long (nullable = true)\n",
      " |-- date_time: string (nullable = true)\n",
      " |-- ip_address: string (nullable = true)\n",
      " |-- method: string (nullable = true)\n",
      " |-- protocol: string (nullable = true)\n",
      " |-- requested_url: string (nullable = true)\n",
      " |-- response_code: long (nullable = true)\n",
      " |-- sep_1: string (nullable = true)\n",
      " |-- sep_2: string (nullable = true)\n",
      " |-- TimeStamp: string (nullable = true)\n",
      " |-- Time_Zone: string (nullable = true)\n",
      "\n"
     ]
    }
   ],
   "source": [
    "#verify the schema\n",
    "limited_Access_log.printSchema()"
   ]
  },
  {
   "cell_type": "code",
   "execution_count": 34,
   "metadata": {},
   "outputs": [
    {
     "name": "stdout",
     "output_type": "stream",
     "text": [
      "+--------------------------+--------------------+---------+\n",
      "|date_time                 |TimeStamp           |Time_Zone|\n",
      "+--------------------------+--------------------+---------+\n",
      "|01/Aug/1995:00:00:01 -0400|01/Aug/1995:00:00:01|-0400    |\n",
      "|01/Aug/1995:00:00:07 -0400|01/Aug/1995:00:00:07|-0400    |\n",
      "|01/Aug/1995:00:00:08 -0400|01/Aug/1995:00:00:08|-0400    |\n",
      "|01/Aug/1995:00:00:08 -0400|01/Aug/1995:00:00:08|-0400    |\n",
      "|01/Aug/1995:00:00:08 -0400|01/Aug/1995:00:00:08|-0400    |\n",
      "|01/Aug/1995:00:00:09 -0400|01/Aug/1995:00:00:09|-0400    |\n",
      "|01/Aug/1995:00:00:10 -0400|01/Aug/1995:00:00:10|-0400    |\n",
      "|01/Aug/1995:00:00:10 -0400|01/Aug/1995:00:00:10|-0400    |\n",
      "|01/Aug/1995:00:00:10 -0400|01/Aug/1995:00:00:10|-0400    |\n",
      "|01/Aug/1995:00:00:11 -0400|01/Aug/1995:00:00:11|-0400    |\n",
      "+--------------------------+--------------------+---------+\n",
      "only showing top 10 rows\n",
      "\n"
     ]
    }
   ],
   "source": [
    "#verify the sepration\n",
    "limited_Access_log.select('date_time','TimeStamp','Time_Zone').show(10,truncate=False)"
   ]
  },
  {
   "cell_type": "code",
   "execution_count": 35,
   "metadata": {
    "collapsed": true
   },
   "outputs": [],
   "source": [
    "from pyspark.sql.functions import unix_timestamp, from_unixtime, date_format"
   ]
  },
  {
   "cell_type": "code",
   "execution_count": 36,
   "metadata": {},
   "outputs": [],
   "source": [
    "\n",
    "#convert into unix timestamp format\n",
    "limited_Access_log = limited_Access_log.withColumn('TimeStamp_temp', from_unixtime(unix_timestamp(limited_Access_log['TimeStamp'], 'd/MMM/yyyy:hh:mm:ss')))\n",
    "  "
   ]
  },
  {
   "cell_type": "code",
   "execution_count": 37,
   "metadata": {},
   "outputs": [
    {
     "name": "stdout",
     "output_type": "stream",
     "text": [
      "root\n",
      " |-- content_size: long (nullable = true)\n",
      " |-- date_time: string (nullable = true)\n",
      " |-- ip_address: string (nullable = true)\n",
      " |-- method: string (nullable = true)\n",
      " |-- protocol: string (nullable = true)\n",
      " |-- requested_url: string (nullable = true)\n",
      " |-- response_code: long (nullable = true)\n",
      " |-- sep_1: string (nullable = true)\n",
      " |-- sep_2: string (nullable = true)\n",
      " |-- TimeStamp: string (nullable = true)\n",
      " |-- Time_Zone: string (nullable = true)\n",
      " |-- TimeStamp_temp: string (nullable = true)\n",
      "\n"
     ]
    }
   ],
   "source": [
    "limited_Access_log.printSchema() #verify the content"
   ]
  },
  {
   "cell_type": "code",
   "execution_count": 38,
   "metadata": {},
   "outputs": [
    {
     "name": "stdout",
     "output_type": "stream",
     "text": [
      "+------------+--------------------+-----------------+------+--------+--------------------+-------------+-----+-----+--------------------+---------+-------------------+\n",
      "|content_size|           date_time|       ip_address|method|protocol|       requested_url|response_code|sep_1|sep_2|           TimeStamp|Time_Zone|     TimeStamp_temp|\n",
      "+------------+--------------------+-----------------+------+--------+--------------------+-------------+-----+-----+--------------------+---------+-------------------+\n",
      "|        1839|01/Aug/1995:00:00...|in24.inetnebr.com|   GET|HTTP/1.0|/shuttle/missions...|          200|    -|    -|01/Aug/1995:00:00:01|    -0400|1995-08-01 00:00:01|\n",
      "|           0|01/Aug/1995:00:00...|  uplherc.upl.com|   GET|HTTP/1.0|                   /|          304|    -|    -|01/Aug/1995:00:00:07|    -0400|1995-08-01 00:00:07|\n",
      "|           0|01/Aug/1995:00:00...|  uplherc.upl.com|   GET|HTTP/1.0|/images/ksclogo-m...|          304|    -|    -|01/Aug/1995:00:00:08|    -0400|1995-08-01 00:00:08|\n",
      "|           0|01/Aug/1995:00:00...|  uplherc.upl.com|   GET|HTTP/1.0|/images/MOSAIC-lo...|          304|    -|    -|01/Aug/1995:00:00:08|    -0400|1995-08-01 00:00:08|\n",
      "|           0|01/Aug/1995:00:00...|  uplherc.upl.com|   GET|HTTP/1.0|/images/USA-logos...|          304|    -|    -|01/Aug/1995:00:00:08|    -0400|1995-08-01 00:00:08|\n",
      "+------------+--------------------+-----------------+------+--------+--------------------+-------------+-----+-----+--------------------+---------+-------------------+\n",
      "only showing top 5 rows\n",
      "\n"
     ]
    }
   ],
   "source": [
    "limited_Access_log.show(5) #verify the content"
   ]
  },
  {
   "cell_type": "code",
   "execution_count": 39,
   "metadata": {
    "collapsed": true
   },
   "outputs": [],
   "source": [
    "#get the date in Date \n",
    "limited_Access_log = limited_Access_log.withColumn('Date',date_format(limited_Access_log['TimeStamp_temp'], 'yyyy-mm-dd'))"
   ]
  },
  {
   "cell_type": "code",
   "execution_count": 40,
   "metadata": {},
   "outputs": [
    {
     "name": "stdout",
     "output_type": "stream",
     "text": [
      "+----------+\n",
      "|      Date|\n",
      "+----------+\n",
      "|1995-00-01|\n",
      "|1995-00-01|\n",
      "|1995-00-01|\n",
      "|1995-00-01|\n",
      "|1995-00-01|\n",
      "+----------+\n",
      "only showing top 5 rows\n",
      "\n"
     ]
    }
   ],
   "source": [
    "limited_Access_log.select('Date').show(5)"
   ]
  },
  {
   "cell_type": "code",
   "execution_count": 41,
   "metadata": {},
   "outputs": [
    {
     "name": "stdout",
     "output_type": "stream",
     "text": [
      "+----+\n",
      "|Time|\n",
      "+----+\n",
      "|  00|\n",
      "|  00|\n",
      "|  00|\n",
      "|  00|\n",
      "|  00|\n",
      "+----+\n",
      "only showing top 5 rows\n",
      "\n"
     ]
    }
   ],
   "source": [
    "#get the Time in Time formt\n",
    "limited_Access_log = limited_Access_log.withColumn('Time',date_format(limited_Access_log['TimeStamp_temp'], 'HH'))\n",
    "limited_Access_log.select('Time').show(5)"
   ]
  },
  {
   "cell_type": "code",
   "execution_count": 42,
   "metadata": {},
   "outputs": [],
   "source": [
    "#save the data in new dataframe\n",
    "DateTime_Log = limited_Access_log.select('content_size','Date','Time')"
   ]
  },
  {
   "cell_type": "code",
   "execution_count": 43,
   "metadata": {},
   "outputs": [
    {
     "name": "stdout",
     "output_type": "stream",
     "text": [
      "+------------+----------+----+\n",
      "|content_size|      Date|Time|\n",
      "+------------+----------+----+\n",
      "|        1839|1995-00-01|  00|\n",
      "|           0|1995-00-01|  00|\n",
      "|           0|1995-00-01|  00|\n",
      "|           0|1995-00-01|  00|\n",
      "|           0|1995-00-01|  00|\n",
      "|        1713|1995-00-01|  00|\n",
      "|           0|1995-00-01|  00|\n",
      "|        1687|1995-00-01|  00|\n",
      "|       11853|1995-00-01|  00|\n",
      "|        9202|1995-00-01|  00|\n",
      "|        3635|1995-00-01|  00|\n",
      "|        1173|1995-00-01|  00|\n",
      "|        3047|1995-00-01|  00|\n",
      "|           0|1995-00-01|  00|\n",
      "|       10566|1995-00-01|  00|\n",
      "|        7280|1995-00-01|  00|\n",
      "|        5866|1995-00-01|  00|\n",
      "|        2743|1995-00-01|  00|\n",
      "|        6849|1995-00-01|  00|\n",
      "|       14897|1995-00-01|  00|\n",
      "|           0|1995-00-01|  00|\n",
      "|           0|1995-00-01|  00|\n",
      "|           0|1995-00-01|  00|\n",
      "|           0|1995-00-01|  00|\n",
      "|        1204|1995-00-01|  00|\n",
      "|        8083|1995-00-01|  00|\n",
      "|        1713|1995-00-01|  00|\n",
      "|        4324|1995-00-01|  00|\n",
      "|        1173|1995-00-01|  00|\n",
      "|        4179|1995-00-01|  00|\n",
      "|         786|1995-00-01|  00|\n",
      "|        1659|1995-00-01|  00|\n",
      "|        3635|1995-00-01|  00|\n",
      "|        2303|1995-00-01|  00|\n",
      "|        3274|1995-00-01|  00|\n",
      "|        1932|1995-00-01|  00|\n",
      "|       13450|1995-00-01|  00|\n",
      "|       12054|1995-00-01|  00|\n",
      "|        1204|1995-00-01|  00|\n",
      "|        1173|1995-00-01|  00|\n",
      "|        1713|1995-00-01|  00|\n",
      "|        6168|1995-00-01|  00|\n",
      "|        1204|1995-00-01|  00|\n",
      "|        3635|1995-00-01|  00|\n",
      "|        1932|1995-00-01|  00|\n",
      "|        7025|1995-00-01|  00|\n",
      "|        4179|1995-00-01|  00|\n",
      "|          85|1995-00-01|  00|\n",
      "|        1932|1995-00-01|  00|\n",
      "|        3635|1995-00-01|  00|\n",
      "|        3714|1995-00-01|  00|\n",
      "|        1437|1995-01-01|  00|\n",
      "|       13994|1995-01-01|  00|\n",
      "|        8089|1995-01-01|  00|\n",
      "|        3660|1995-01-01|  00|\n",
      "|       11853|1995-01-01|  00|\n",
      "|        4742|1995-01-01|  00|\n",
      "|        5410|1995-01-01|  00|\n",
      "|        4649|1995-01-01|  00|\n",
      "|        4179|1995-01-01|  00|\n",
      "+------------+----------+----+\n",
      "\n"
     ]
    }
   ],
   "source": [
    "#verfiy the content\n",
    "DateTime_Log.show(60)"
   ]
  },
  {
   "cell_type": "code",
   "execution_count": 44,
   "metadata": {},
   "outputs": [
    {
     "name": "stdout",
     "output_type": "stream",
     "text": [
      "root\n",
      " |-- content_size: long (nullable = true)\n",
      " |-- Date: string (nullable = true)\n",
      " |-- Time: string (nullable = true)\n",
      "\n"
     ]
    }
   ],
   "source": [
    "DateTime_Log.printSchema()  #verify the schema"
   ]
  },
  {
   "cell_type": "code",
   "execution_count": 45,
   "metadata": {
    "collapsed": true
   },
   "outputs": [],
   "source": [
    "from pyspark.sql import functions as func"
   ]
  },
  {
   "cell_type": "code",
   "execution_count": 47,
   "metadata": {},
   "outputs": [],
   "source": [
    "#Quiz:3 Write spark code to find out 5 time frames of maximum traffic"
   ]
  },
  {
   "cell_type": "code",
   "execution_count": 48,
   "metadata": {},
   "outputs": [
    {
     "name": "stdout",
     "output_type": "stream",
     "text": [
      "+----------+----+-----------------+\n",
      "|      Date|Time|sum(content_size)|\n",
      "+----------+----+-----------------+\n",
      "|1995-00-01|  00|           179718|\n",
      "|1995-01-01|  00|            58013|\n",
      "+----------+----+-----------------+\n",
      "\n"
     ]
    }
   ],
   "source": [
    "# grouping by date and time(taken hours only) and adding the content size \n",
    "# note since data taken less only two day it visible \n",
    "DateTime_Log.groupBy('Date','Time').sum(\"content_size\").orderBy('sum(content_size)', ascending=False).show(5)"
   ]
  },
  {
   "cell_type": "code",
   "execution_count": 50,
   "metadata": {},
   "outputs": [],
   "source": [
    "#Quiz 4:Write spark code to find out 5 time frames of least traffic"
   ]
  },
  {
   "cell_type": "code",
   "execution_count": 51,
   "metadata": {},
   "outputs": [
    {
     "name": "stdout",
     "output_type": "stream",
     "text": [
      "+----------+----+-----------------+\n",
      "|      Date|Time|sum(content_size)|\n",
      "+----------+----+-----------------+\n",
      "|1995-01-01|  00|            58013|\n",
      "|1995-00-01|  00|           179718|\n",
      "+----------+----+-----------------+\n",
      "\n"
     ]
    }
   ],
   "source": [
    "DateTime_Log.groupBy('Date','Time').sum(\"content_size\").orderBy('sum(content_size)', ascending=True).show()"
   ]
  },
  {
   "cell_type": "code",
   "execution_count": 53,
   "metadata": {},
   "outputs": [],
   "source": [
    "#Quiz-5 Write spark code to find out unique HTTP codes returned by the server along with count (this information is hel"
   ]
  },
  {
   "cell_type": "code",
   "execution_count": 54,
   "metadata": {},
   "outputs": [
    {
     "name": "stdout",
     "output_type": "stream",
     "text": [
      "+-------------+-----+\n",
      "|response_code|count|\n",
      "+-------------+-----+\n",
      "|          200|   49|\n",
      "|          304|   10|\n",
      "|          302|    1|\n",
      "+-------------+-----+\n",
      "\n"
     ]
    }
   ],
   "source": [
    "limited_Access_log.groupBy('response_code').count().orderBy('count', ascending=False).show(5)"
   ]
  },
  {
   "cell_type": "code",
   "execution_count": null,
   "metadata": {
    "collapsed": true
   },
   "outputs": [],
   "source": []
  }
 ],
 "metadata": {
  "kernelspec": {
   "display_name": "Python 2",
   "language": "python",
   "name": "python2"
  },
  "language_info": {
   "codemirror_mode": {
    "name": "ipython",
    "version": 2
   },
   "file_extension": ".py",
   "mimetype": "text/x-python",
   "name": "python",
   "nbconvert_exporter": "python",
   "pygments_lexer": "ipython2",
   "version": "2.7.13"
  }
 },
 "nbformat": 4,
 "nbformat_minor": 2
}
