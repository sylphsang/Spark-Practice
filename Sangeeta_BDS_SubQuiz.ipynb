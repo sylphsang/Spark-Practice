{
 "cells": [
  {
   "cell_type": "code",
   "execution_count": 1,
   "metadata": {
    "collapsed": true
   },
   "outputs": [],
   "source": [
    "#pyspark Seesion\n",
    "from pyspark import SparkContext, SparkConf"
   ]
  },
  {
   "cell_type": "code",
   "execution_count": 2,
   "metadata": {
    "collapsed": true
   },
   "outputs": [],
   "source": [
    "# import pyspark sql\n",
    "from pyspark.sql import SQLContext"
   ]
  },
  {
   "cell_type": "code",
   "execution_count": 3,
   "metadata": {
    "collapsed": true
   },
   "outputs": [],
   "source": [
    "conf = SparkConf().setAppName(\"Whole Sale Data Analyzer\")"
   ]
  },
  {
   "cell_type": "code",
   "execution_count": 4,
   "metadata": {
    "collapsed": false
   },
   "outputs": [],
   "source": [
    "sc = SparkContext(conf=conf)"
   ]
  },
  {
   "cell_type": "code",
   "execution_count": 5,
   "metadata": {
    "collapsed": true
   },
   "outputs": [],
   "source": [
    "sql = SQLContext(sc)"
   ]
  },
  {
   "cell_type": "code",
   "execution_count": null,
   "metadata": {
    "collapsed": true
   },
   "outputs": [],
   "source": [
    "#Quiz 1- Read the csv file as a dataframe(DF)"
   ]
  },
  {
   "cell_type": "code",
   "execution_count": 7,
   "metadata": {
    "collapsed": false
   },
   "outputs": [],
   "source": [
    "\n",
    "WholeSale__data_df = (sql.read.format(\"com.databricks.spark.csv\").options(header='true',inferschema='true').load(\"/user/sylphsangeeta3307/BDS_Quiz/Wholesale customers data-1.csv\"))"
   ]
  },
  {
   "cell_type": "code",
   "execution_count": 8,
   "metadata": {
    "collapsed": false
   },
   "outputs": [
    {
     "data": {
      "text/plain": [
       "440"
      ]
     },
     "execution_count": 8,
     "metadata": {},
     "output_type": "execute_result"
    }
   ],
   "source": [
    "#check total  number of item in the data frame  \n",
    "WholeSale__data_df.count()"
   ]
  },
  {
   "cell_type": "code",
   "execution_count": null,
   "metadata": {
    "collapsed": true
   },
   "outputs": [],
   "source": [
    "#Quiz-2-See the schema of the DF."
   ]
  },
  {
   "cell_type": "code",
   "execution_count": 9,
   "metadata": {
    "collapsed": false
   },
   "outputs": [
    {
     "name": "stdout",
     "output_type": "stream",
     "text": [
      "root\n",
      " |-- Channel: integer (nullable = true)\n",
      " |-- Region: integer (nullable = true)\n",
      " |-- Fresh: integer (nullable = true)\n",
      " |-- Milk: integer (nullable = true)\n",
      " |-- Grocery: integer (nullable = true)\n",
      " |-- Frozen: integer (nullable = true)\n",
      " |-- Detergents_Paper: integer (nullable = true)\n",
      " |-- Delicassen: integer (nullable = true)\n",
      "\n"
     ]
    }
   ],
   "source": [
    "#check the schema of the data frame \n",
    "WholeSale__data_df.printSchema()"
   ]
  },
  {
   "cell_type": "code",
   "execution_count": null,
   "metadata": {
    "collapsed": true
   },
   "outputs": [],
   "source": [
    "#Quiz-3-Use select to view a single column or a set of chosen columns."
   ]
  },
  {
   "cell_type": "code",
   "execution_count": 10,
   "metadata": {
    "collapsed": false
   },
   "outputs": [
    {
     "name": "stdout",
     "output_type": "stream",
     "text": [
      "+-----+\n",
      "| Milk|\n",
      "+-----+\n",
      "| 9656|\n",
      "| 9810|\n",
      "| 8808|\n",
      "| 1196|\n",
      "| 5410|\n",
      "| 8259|\n",
      "| 3199|\n",
      "| 4956|\n",
      "| 3648|\n",
      "|11093|\n",
      "| 5403|\n",
      "| 1124|\n",
      "|12319|\n",
      "| 6208|\n",
      "| 9465|\n",
      "| 1114|\n",
      "| 8816|\n",
      "| 6157|\n",
      "| 6327|\n",
      "| 2495|\n",
      "+-----+\n",
      "only showing top 20 rows\n",
      "\n"
     ]
    }
   ],
   "source": [
    "#using select viewing the singlr column \n",
    "WholeSale__data_df.select('Milk').show(20)"
   ]
  },
  {
   "cell_type": "code",
   "execution_count": null,
   "metadata": {
    "collapsed": true
   },
   "outputs": [],
   "source": [
    "#Quiz-4-Use filter to see records with fresh sales more than 50000 only."
   ]
  },
  {
   "cell_type": "code",
   "execution_count": 11,
   "metadata": {
    "collapsed": false
   },
   "outputs": [
    {
     "name": "stdout",
     "output_type": "stream",
     "text": [
      "+-------+------+-----+-----+-------+------+----------------+----------+\n",
      "|Channel|Region|Fresh| Milk|Grocery|Frozen|Detergents_Paper|Delicassen|\n",
      "+-------+------+-----+-----+-------+------+----------------+----------+\n",
      "|      2|     3|22615| 5410|   7198|  3915|            1777|      5185|\n",
      "|      2|     3|31714|12319|  11757|   287|            3881|      2931|\n",
      "|      2|     3|21217| 6208|  14982|  3095|            6707|       602|\n",
      "|      2|     3|24653| 9465|  12091|   294|            5058|      2168|\n",
      "|      2|     3|18601| 6327|  10099|  2205|            2767|      3181|\n",
      "|      2|     3|17546| 4519|   4602|  1066|            2259|      2124|\n",
      "|      1|     3|31276| 1917|   4469|  9408|            2381|      4334|\n",
      "|      2|     3|26373|36423|  22019|  5154|            4337|     16523|\n",
      "|      2|     3|22647| 9776|  13792|  2915|            4482|      5778|\n",
      "|      2|     3|16165| 4230|   7595|   201|            4003|        57|\n",
      "|      1|     3|43088| 2100|   2609|  1200|            1107|       823|\n",
      "|      1|     3|18815| 3610|  11107|  1148|            2134|      2963|\n",
      "|      1|     3|21632| 1318|   2886|   266|             918|       405|\n",
      "|      1|     3|29729| 4786|   7326|  6130|             361|      1083|\n",
      "|      1|     3|29955| 4362|   5428|  1729|             862|      4626|\n",
      "|      2|     3|15168|10556|  12477|  1920|            6506|       714|\n",
      "|      1|     3|56159|  555|    902| 10002|             212|      2916|\n",
      "|      1|     3|24025| 4332|   4757|  9510|            1145|      5864|\n",
      "|      1|     3|19176| 3065|   5956|  2033|            2575|      2802|\n",
      "|      2|     3|44466|54259|  55571|  7782|           24171|      6465|\n",
      "+-------+------+-----+-----+-------+------+----------------+----------+\n",
      "only showing top 20 rows\n",
      "\n"
     ]
    }
   ],
   "source": [
    "WholeSale__data_df.filter(WholeSale__data_df.Fresh > 15000).show()"
   ]
  },
  {
   "cell_type": "code",
   "execution_count": null,
   "metadata": {
    "collapsed": true
   },
   "outputs": [],
   "source": [
    "#Quiz-5-Create aggregates on channels and regions variables"
   ]
  },
  {
   "cell_type": "code",
   "execution_count": 21,
   "metadata": {
    "collapsed": false
   },
   "outputs": [
    {
     "name": "stdout",
     "output_type": "stream",
     "text": [
      "+-------+------+------------+\n",
      "|Channel|Region|count(Fresh)|\n",
      "+-------+------+------------+\n",
      "|      2|     2|          19|\n",
      "|      2|     3|         105|\n",
      "|      1|     2|          28|\n",
      "|      1|     1|          59|\n",
      "|      1|     3|         211|\n",
      "|      2|     1|          18|\n",
      "+-------+------+------------+\n",
      "\n"
     ]
    }
   ],
   "source": [
    "#aggregate the Fresh on count groupby Channel,Region\n",
    "\n",
    "WholeSale__data_df.groupby('Channel','Region').agg({'Fresh': 'count'}).show()"
   ]
  },
  {
   "cell_type": "code",
   "execution_count": null,
   "metadata": {
    "collapsed": true
   },
   "outputs": [],
   "source": [
    "#Quiz-6-Use describe to see summary statistics on dataframe."
   ]
  },
  {
   "cell_type": "code",
   "execution_count": 15,
   "metadata": {
    "collapsed": false
   },
   "outputs": [
    {
     "name": "stdout",
     "output_type": "stream",
     "text": [
      "+-------+-----------------+------------------+------------------+\n",
      "|summary|           Frozen|  Detergents_Paper|             Fresh|\n",
      "+-------+-----------------+------------------+------------------+\n",
      "|  count|              440|               440|               440|\n",
      "|   mean|3071.931818181818|2881.4931818181817|12000.297727272728|\n",
      "| stddev|4854.673332592367| 4767.854447904201|12647.328865076885|\n",
      "|    min|               25|                 3|                 3|\n",
      "|    max|            60869|             40827|            112151|\n",
      "+-------+-----------------+------------------+------------------+\n",
      "\n"
     ]
    }
   ],
   "source": [
    "#describe to statistics of  the column \n",
    "WholeSale__data_df.describe('Frozen','Detergents_Paper','Fresh').show()"
   ]
  },
  {
   "cell_type": "code",
   "execution_count": null,
   "metadata": {
    "collapsed": true
   },
   "outputs": [],
   "source": [
    "#Quiz-7-Change datatype of Channels to Strings."
   ]
  },
  {
   "cell_type": "code",
   "execution_count": 16,
   "metadata": {
    "collapsed": true
   },
   "outputs": [],
   "source": [
    "#Change datatype of Channels to Strings."
   ]
  },
  {
   "cell_type": "code",
   "execution_count": 17,
   "metadata": {
    "collapsed": false
   },
   "outputs": [],
   "source": [
    "new_df = WholeSale__data_df.withColumn(\"Channel\",WholeSale__data_df[\"Channel\"].cast('string'))"
   ]
  },
  {
   "cell_type": "code",
   "execution_count": 18,
   "metadata": {
    "collapsed": false
   },
   "outputs": [
    {
     "name": "stdout",
     "output_type": "stream",
     "text": [
      "root\n",
      " |-- Channel: string (nullable = true)\n",
      " |-- Region: integer (nullable = true)\n",
      " |-- Fresh: integer (nullable = true)\n",
      " |-- Milk: integer (nullable = true)\n",
      " |-- Grocery: integer (nullable = true)\n",
      " |-- Frozen: integer (nullable = true)\n",
      " |-- Detergents_Paper: integer (nullable = true)\n",
      " |-- Delicassen: integer (nullable = true)\n",
      "\n"
     ]
    }
   ],
   "source": [
    "#check the schema of new data frame where now Channel will be seen as string\n",
    "new_df.printSchema()\n"
   ]
  },
  {
   "cell_type": "code",
   "execution_count": null,
   "metadata": {
    "collapsed": true
   },
   "outputs": [],
   "source": [
    "#Quiz-8-Perform rollups on channels and regions"
   ]
  },
  {
   "cell_type": "code",
   "execution_count": 19,
   "metadata": {
    "collapsed": false
   },
   "outputs": [
    {
     "name": "stdout",
     "output_type": "stream",
     "text": [
      "+-------+------+-----+\n",
      "|Channel|Region|count|\n",
      "+-------+------+-----+\n",
      "|   null|  null|  440|\n",
      "|      1|  null|  298|\n",
      "|      1|     1|   59|\n",
      "|      1|     2|   28|\n",
      "|      1|     3|  211|\n",
      "|      2|  null|  142|\n",
      "|      2|     1|   18|\n",
      "|      2|     2|   19|\n",
      "|      2|     3|  105|\n",
      "+-------+------+-----+\n",
      "\n"
     ]
    }
   ],
   "source": [
    " new_df.rollup(\"Channel\",new_df.Region).count().orderBy(\"Channel\", \"Region\").show()"
   ]
  },
  {
   "cell_type": "code",
   "execution_count": null,
   "metadata": {
    "collapsed": true
   },
   "outputs": [],
   "source": []
  }
 ],
 "metadata": {
  "kernelspec": {
   "display_name": "Python [default]",
   "language": "python",
   "name": "python2"
  },
  "language_info": {
   "codemirror_mode": {
    "name": "ipython",
    "version": 2
   },
   "file_extension": ".py",
   "mimetype": "text/x-python",
   "name": "python",
   "nbconvert_exporter": "python",
   "pygments_lexer": "ipython2",
   "version": "2.7.13"
  }
 },
 "nbformat": 4,
 "nbformat_minor": 2
}
